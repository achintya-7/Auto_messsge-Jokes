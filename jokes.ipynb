{
 "cells": [
  {
   "cell_type": "code",
   "execution_count": 3,
   "source": [
    "import requests\r\n",
    "\r\n",
    "url = 'https://api.jokes.one/jod?category=knock-knock'\r\n",
    "api_token = \"YOUR API KEY HERE\"\r\n",
    "headers = {\r\n",
    "    'content-type': 'application/json',\r\n",
    "    'X-JokesOne-Api-Secret': format(api_token)\r\n",
    "}\r\n",
    "\r\n",
    "response = requests.get(url, headers=headers)\r\n",
    "print(response)\r\n",
    "print(response.text)\r\n",
    "jokes = response.json()['contents']['jokes'][0]"
   ],
   "outputs": [
    {
     "output_type": "stream",
     "name": "stdout",
     "text": [
      "<Response [429]>\n",
      "{\"error\":{\"code\":429,\"message\":\"Too Many Requests: Rate limit of 10 requests per hour exceeded. Please wait for 55 minutes and 2 seconds.\"}}\n"
     ]
    }
   ],
   "metadata": {}
  },
  {
   "cell_type": "code",
   "execution_count": 4,
   "source": [
    "jokes_json = \"\"\"\r\n",
    "\"name\": \"achintya\",\r\n",
    "\"employees\":[\r\n",
    "  {\"firstName\":\"John\", \"lastName\":\"Doe\"},\r\n",
    "  {\"firstName\":\"Anna\", \"lastName\":\"Smith\"},\r\n",
    "  {\"firstName\":\"Peter\", \"lastName\":\"Jones\"}\r\n",
    "]\r\n",
    "\"\"\""
   ],
   "outputs": [],
   "metadata": {}
  },
  {
   "cell_type": "code",
   "execution_count": 13,
   "source": [
    "print(type(jokes_json))"
   ],
   "outputs": [
    {
     "output_type": "stream",
     "name": "stdout",
     "text": [
      "<class 'str'>\n"
     ]
    }
   ],
   "metadata": {}
  },
  {
   "cell_type": "code",
   "execution_count": 22,
   "source": [
    "import json\r\n",
    "\r\n",
    "x = {\r\n",
    "    \"name\":\r\n",
    "    \"achintya\",\r\n",
    "    \"employees\": [{\r\n",
    "        \"firstName\": \"John\",\r\n",
    "        \"lastName\": \"Doe\"\r\n",
    "    }, {\r\n",
    "        \"firstName\": \"Anna\",\r\n",
    "        \"lastName\": \"Smith\"\r\n",
    "    }, {\r\n",
    "        \"firstName\": \"Peter\",\r\n",
    "        \"lastName\": \"Jones\"\r\n",
    "    }]\r\n",
    "}"
   ],
   "outputs": [],
   "metadata": {}
  },
  {
   "cell_type": "code",
   "execution_count": 10,
   "source": [
    "x = '{ \"name\":\"John\", \"age\":30, \"city\":\"New York\"}'\r\n"
   ],
   "outputs": [],
   "metadata": {}
  },
  {
   "cell_type": "code",
   "execution_count": 27,
   "source": [
    "w = z['employees'][1]['firstName']"
   ],
   "outputs": [],
   "metadata": {}
  },
  {
   "cell_type": "code",
   "execution_count": 28,
   "source": [
    "print(w)"
   ],
   "outputs": [
    {
     "output_type": "stream",
     "name": "stdout",
     "text": [
      "Anna\n"
     ]
    }
   ],
   "metadata": {}
  },
  {
   "cell_type": "code",
   "execution_count": 29,
   "source": [
    "output = {\r\n",
    "    \"success\": {\r\n",
    "        \"total\": 1\r\n",
    "    },\r\n",
    "    \"contents\": {\r\n",
    "        \"jokes\": [{\r\n",
    "            \"category\": \"jod\",\r\n",
    "            \"title\": \"Joke of the day \",\r\n",
    "            \"description\": \"Joke of the day \",\r\n",
    "            \"background\": \"\",\r\n",
    "            \"date\": \"2019-01-23\",\r\n",
    "            \"joke\": {\r\n",
    "                \"title\":\r\n",
    "                \"Courtship Signals\",\r\n",
    "                \"length\":\r\n",
    "                \"83\",\r\n",
    "                \"clean\":\r\n",
    "                \"1\",\r\n",
    "                \"racial\":\r\n",
    "                \"0\",\r\n",
    "                \"date\":\r\n",
    "                \"2019-01-23\",\r\n",
    "                \"id\":\r\n",
    "                \"He3_WpaNfBV1Hs7zMLsR4QeF\",\r\n",
    "                \"text\":\r\n",
    "                \"Q. Why shouldn't you marry a tennis player?\\r\\nA. Because Love means nothing to them.\"\r\n",
    "            }\r\n",
    "        }],\r\n",
    "        \"copyright\":\r\n",
    "        \"2018-20 https://jokes.one\"\r\n",
    "    }\r\n",
    "}"
   ],
   "outputs": [],
   "metadata": {}
  },
  {
   "cell_type": "code",
   "execution_count": 34,
   "source": [
    "jokes = output['contents']['jokes'][0]\r\n",
    "final = jokes['joke']['text']\r\n",
    "print(final)"
   ],
   "outputs": [
    {
     "output_type": "stream",
     "name": "stdout",
     "text": [
      "Q. Why shouldn't you marry a tennis player?\n",
      "A. Because Love means nothing to them.\n"
     ]
    }
   ],
   "metadata": {}
  },
  {
   "cell_type": "code",
   "execution_count": 36,
   "source": [
    "from appwrite.client import Client\r\n",
    "from appwrite.services.database import Database\r\n",
    "\r\n",
    "client_aw = Client()\r\n",
    "client_aw.set_endpoint(\"https://35.202.222.146/v1\")\r\n",
    "client_aw.set_project(\"61d5806909248\")  # this is available by default.\r\n",
    "client_aw.set_key(\r\n",
    "    \"4869aa1dfa376452b50b6024f7619927c1999a47a2d2c232449d94f80aea7f5525079f3dc3cf28eb8f9a94067fc0eb7475c1c607fed10790ead5bf26da658795c666c379c2f2fbc0f5f9e5bd489c0a2623927df620f3ca5b9763eae0a158ab31d4e17b8ef4d51a68f1998429b27a70ed8f08ffbe5ddd423b7602a6e320b24668\"\r\n",
    ")\r\n",
    "client_aw.set_self_signed()\r\n",
    "\r\n",
    "database = Database(client_aw)\r\n",
    "\r\n",
    "result = database.list_documents('61d7183bd4dc3', limit=100)\r\n",
    "collection_list = result['documents']\r\n",
    "print(collection_list)"
   ],
   "outputs": [
    {
     "output_type": "stream",
     "name": "stderr",
     "text": [
      "C:\\Users\\achin\\AppData\\Local\\Packages\\PythonSoftwareFoundation.Python.3.9_qbz5n2kfra8p0\\LocalCache\\local-packages\\Python39\\site-packages\\urllib3\\connectionpool.py:1013: InsecureRequestWarning: Unverified HTTPS request is being made to host '35.202.222.146'. Adding certificate verification is strongly advised. See: https://urllib3.readthedocs.io/en/1.26.x/advanced-usage.html#ssl-warnings\n",
      "  warnings.warn(\n"
     ]
    },
    {
     "output_type": "stream",
     "name": "stdout",
     "text": [
      "[{'$id': '61d71867bdeed', '$collection': '61d7183bd4dc3', '$permissions': {'read': [], 'write': []}, 'db_num': '9810974477'}]\n"
     ]
    }
   ],
   "metadata": {}
  },
  {
   "cell_type": "code",
   "execution_count": 39,
   "source": [
    "database = Database(client_aw)\r\n",
    "\r\n",
    "result = database.list_documents('61d7183bd4dc3', limit=100)\r\n",
    "collection_list = result['documents']\r\n",
    "\r\n",
    "numbers = []\r\n",
    "\r\n",
    "for i in range(result[\"sum\"]):\r\n",
    "    numbers.append(collection_list[i][\"db_num\"])\r\n",
    "print(numbers[0])"
   ],
   "outputs": [
    {
     "output_type": "stream",
     "name": "stderr",
     "text": [
      "C:\\Users\\achin\\AppData\\Local\\Packages\\PythonSoftwareFoundation.Python.3.9_qbz5n2kfra8p0\\LocalCache\\local-packages\\Python39\\site-packages\\urllib3\\connectionpool.py:1013: InsecureRequestWarning: Unverified HTTPS request is being made to host '35.202.222.146'. Adding certificate verification is strongly advised. See: https://urllib3.readthedocs.io/en/1.26.x/advanced-usage.html#ssl-warnings\n",
      "  warnings.warn(\n"
     ]
    },
    {
     "output_type": "stream",
     "name": "stdout",
     "text": [
      "['9810974477']\n"
     ]
    }
   ],
   "metadata": {}
  }
 ],
 "metadata": {
  "orig_nbformat": 4,
  "language_info": {
   "name": "python",
   "version": "3.9.9",
   "mimetype": "text/x-python",
   "codemirror_mode": {
    "name": "ipython",
    "version": 3
   },
   "pygments_lexer": "ipython3",
   "nbconvert_exporter": "python",
   "file_extension": ".py"
  },
  "kernelspec": {
   "name": "python3",
   "display_name": "Python 3.9.9 64-bit"
  },
  "interpreter": {
   "hash": "c3a727aa80c94b0051c518a3a55964e9ae5263d3bab8fa08726da93660183222"
  }
 },
 "nbformat": 4,
 "nbformat_minor": 2
}